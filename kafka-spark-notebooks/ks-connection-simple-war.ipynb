{
 "cells": [
  {
   "cell_type": "code",
   "execution_count": null,
   "metadata": {
    "scrolled": false
   },
   "outputs": [],
   "source": [
    "%AddDeps org.apache.spark spark-sql-kafka-0-10_2.11 2.4.3 --transitive \n",
    "%AddDeps org.apache.spark spark-streaming-kafka-0-10_2.11 2.4.3 --transitive\n",
    "%AddDeps org.apache.spark spark-avro_2.11 2.4.3 --transitive"
   ]
  },
  {
   "cell_type": "code",
   "execution_count": null,
   "metadata": {},
   "outputs": [],
   "source": [
    "import org.apache.spark.sql.types._\n",
    "import org.apache.spark.sql.functions._\n",
    "\n",
    "val base_path = \"...\"\n",
    "\n",
    "val broker = \"...\"\n",
    "\n",
    "val spark = SparkSession\n",
    "  .builder\n",
    "  .appName(\"pm\")\n",
    "  .getOrCreate()\n",
    "\n",
    "val input_warnings = spark\n",
    "  .readStream\n",
    "  .format(\"kafka\")\n",
    "  .option(\"kafka.bootstrap.servers\", broker + \":9092\")\n",
    "  .option(\"subscribe\", \"warnings-simple\")\n",
    "  .load()\n",
    "\n",
    "val raw_warnings = input_warnings.selectExpr(\"CAST(value AS STRING)\")\n",
    "\n",
    "val warning_schema = new StructType()\n",
    "      .add(\"deviceID\",StringType)\n",
    "      .add(\"timestamp\",StringType)\n",
    "      .add(\"warning\",StringType)\n",
    "\n",
    "val warnings = raw_warnings.select(from_json(col(\"value\").cast(\"string\"), warning_schema).as(\"data\"))\n",
    "    .select(\"data.*\")\n",
    "\n",
    "warnings\n",
    "  .writeStream\n",
    "  .outputMode(\"append\")\n",
    "  .format(\"parquet\")\n",
    "  .option(\"checkpointLocation\", base_path + \"checkpoint/warnings/\")\n",
    "  .option(\"path\", base_path + \"warnings.parquet\")\n",
    "  .start()\n",
    "  .awaitTermination()"
   ]
  }
 ],
 "metadata": {
  "kernelspec": {
   "display_name": "Apache Toree - Scala",
   "language": "scala",
   "name": "apache_toree_scala"
  },
  "language_info": {
   "codemirror_mode": "text/x-scala",
   "file_extension": ".scala",
   "mimetype": "text/x-scala",
   "name": "scala",
   "pygments_lexer": "scala",
   "version": "2.11.12"
  }
 },
 "nbformat": 4,
 "nbformat_minor": 2
}
